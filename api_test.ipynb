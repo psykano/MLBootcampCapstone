{
  "nbformat": 4,
  "nbformat_minor": 0,
  "metadata": {
    "colab": {
      "provenance": []
    },
    "kernelspec": {
      "name": "python3",
      "display_name": "Python 3"
    },
    "language_info": {
      "name": "python"
    }
  },
  "cells": [
    {
      "cell_type": "markdown",
      "source": [
        "First, we need to import the necessary Python packages:"
      ],
      "metadata": {
        "id": "1zKRSUpWVMAu"
      }
    },
    {
      "cell_type": "code",
      "source": [
        "import requests\n",
        "import json\n",
        "import os"
      ],
      "metadata": {
        "id": "1jlCRWVbVM9F"
      },
      "execution_count": null,
      "outputs": []
    },
    {
      "cell_type": "markdown",
      "source": [
        "Next, we need to specify the URL and JSON header for the POST:"
      ],
      "metadata": {
        "id": "D0KyZT5TVVGb"
      }
    },
    {
      "cell_type": "code",
      "source": [
        "url = \"https://sdlora.ca/api/prompt\"\n",
        "headers = {\"Content-Type\": \"application/json\"}"
      ],
      "metadata": {
        "id": "cFrpvN4wTlfa"
      },
      "execution_count": 2,
      "outputs": []
    },
    {
      "cell_type": "markdown",
      "source": [
        "Now, let's construct our JSON body.\n",
        "\n",
        "We have the following keys: \"color\", \"shape\", \"top\"\n",
        "\n",
        "All keys expect a string value:"
      ],
      "metadata": {
        "id": "cWqKB_2gVcgz"
      }
    },
    {
      "cell_type": "code",
      "source": [
        "body = {\n",
        "    \"color\": \"red\",\n",
        "    \"shape\": \"square\",\n",
        "    \"top\": \"silver\"\n",
        "    }"
      ],
      "metadata": {
        "id": "erk3_UXLT88A"
      },
      "execution_count": 3,
      "outputs": []
    },
    {
      "cell_type": "markdown",
      "source": [
        "Let's POST our request and store our JSON response as a dict:"
      ],
      "metadata": {
        "id": "KRR9JJxKVwMZ"
      }
    },
    {
      "cell_type": "code",
      "source": [
        "resp = requests.request(\"post\", url, json=body, headers=headers)\n",
        "respText = json.loads(resp.text)"
      ],
      "metadata": {
        "id": "sFc12q-3UbEq"
      },
      "execution_count": null,
      "outputs": []
    },
    {
      "cell_type": "markdown",
      "source": [
        "Let's see if we got a valid response for the \"image\":"
      ],
      "metadata": {
        "id": "ukNM7-3lWEir"
      }
    },
    {
      "cell_type": "code",
      "source": [
        "print(respText['image'])"
      ],
      "metadata": {
        "colab": {
          "base_uri": "https://localhost:8080/"
        },
        "id": "57xdqnXAUoPp",
        "outputId": "f95b883a-9526-412b-c1cf-fe62cc854f7f"
      },
      "execution_count": 6,
      "outputs": [
        {
          "output_type": "stream",
          "name": "stdout",
          "text": [
            "http://res.cloudinary.com/dexgq3cxv/image/upload/3PXnUxXpf3gaRgJnYTi8XZ\n"
          ]
        }
      ]
    }
  ]
}